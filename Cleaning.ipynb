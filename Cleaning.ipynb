{
 "cells": [
  {
   "cell_type": "code",
   "id": "initial_id",
   "metadata": {
    "collapsed": true,
    "ExecuteTime": {
     "end_time": "2024-10-02T19:16:34.345038Z",
     "start_time": "2024-10-02T19:16:34.182553Z"
    }
   },
   "source": [
    "import pandas as pd\n",
    "import numpy as np \n",
    "from sklearn.experimental import enable_iterative_imputer\n",
    "from sklearn.impute import IterativeImputer\n",
    "from sklearn.impute import KNNImputer"
   ],
   "outputs": [],
   "execution_count": 1
  },
  {
   "metadata": {
    "ExecuteTime": {
     "end_time": "2024-10-02T19:16:35.353340Z",
     "start_time": "2024-10-02T19:16:34.345694Z"
    }
   },
   "cell_type": "code",
   "source": [
    "# Define dtype_spec with the correct column names and data types\n",
    "dtype_spec_test = {\n",
    "    'column_6_name': 'str',  # Replace 'column_6_name' with the actual name of column 6 in merged_test.csv\n",
    "}\n",
    "\n",
    "dtype_spec_train = {\n",
    "    'column_7_name': 'str',  # Replace 'column_7_name' with the actual name of column 7 in merged_train.csv\n",
    "}\n",
    "\n",
    "# Load the data with specified dtypes and low_memory=False\n",
    "merged_test = pd.read_csv('merged_test.csv', dtype=dtype_spec_test, low_memory=False)\n",
    "merged_train = pd.read_csv('merged_train.csv', dtype=dtype_spec_train, low_memory=False)\n"
   ],
   "id": "6c570aabb7461e88",
   "outputs": [],
   "execution_count": 2
  },
  {
   "metadata": {
    "ExecuteTime": {
     "end_time": "2024-10-02T19:16:35.357950Z",
     "start_time": "2024-10-02T19:16:35.354263Z"
    }
   },
   "cell_type": "code",
   "source": [
    "#pasar nombre de columnas a minusculas y reemplazar espacios por guiones bajos\n",
    "merged_test.columns = merged_test.columns.str.lower().str.replace(' ', '_')\n",
    "merged_train.columns = merged_train.columns.str.lower().str.replace(' ', '_')\n"
   ],
   "id": "aecd72145abaf905",
   "outputs": [],
   "execution_count": 3
  },
  {
   "metadata": {
    "ExecuteTime": {
     "end_time": "2024-10-02T19:16:35.370204Z",
     "start_time": "2024-10-02T19:16:35.360027Z"
    }
   },
   "cell_type": "code",
   "source": [
    "#evaluamos la presencia de valores nulos\n",
    "print(merged_test.isnull().sum())\n"
   ],
   "id": "148c82cc0e3099c3",
   "outputs": [
    {
     "name": "stdout",
     "output_type": "stream",
     "text": [
      "id                               0\n",
      "store                            0\n",
      "dayofweek                        0\n",
      "date                             0\n",
      "open                            11\n",
      "promo                            0\n",
      "stateholiday                     0\n",
      "schoolholiday                    0\n",
      "storetype                        0\n",
      "assortment                       0\n",
      "competitiondistance             96\n",
      "competitionopensincemonth    15216\n",
      "competitionopensinceyear     15216\n",
      "promo2                           0\n",
      "promo2sinceweek              17232\n",
      "promo2sinceyear              17232\n",
      "promointerval                17232\n",
      "dtype: int64\n"
     ]
    }
   ],
   "execution_count": 4
  },
  {
   "metadata": {
    "ExecuteTime": {
     "end_time": "2024-10-02T19:16:35.483997Z",
     "start_time": "2024-10-02T19:16:35.370931Z"
    }
   },
   "cell_type": "code",
   "source": [
    "#evaluamos la presencia de valores nulos\n",
    "print(merged_train.isnull().sum())"
   ],
   "id": "acb5646e0f5ff23a",
   "outputs": [
    {
     "name": "stdout",
     "output_type": "stream",
     "text": [
      "store                             0\n",
      "dayofweek                         0\n",
      "date                              0\n",
      "sales                             0\n",
      "customers                         0\n",
      "open                              0\n",
      "promo                             0\n",
      "stateholiday                      0\n",
      "schoolholiday                     0\n",
      "storetype                         0\n",
      "assortment                        0\n",
      "competitiondistance            2642\n",
      "competitionopensincemonth    323348\n",
      "competitionopensinceyear     323348\n",
      "promo2                            0\n",
      "promo2sinceweek              508031\n",
      "promo2sinceyear              508031\n",
      "promointerval                508031\n",
      "dtype: int64\n"
     ]
    }
   ],
   "execution_count": 5
  },
  {
   "metadata": {
    "ExecuteTime": {
     "end_time": "2024-10-02T19:16:35.542839Z",
     "start_time": "2024-10-02T19:16:35.484716Z"
    }
   },
   "cell_type": "code",
   "source": [
    "#pasar la columna date a datetime\n",
    "merged_test['date'] = pd.to_datetime(merged_test['date'])\n",
    "merged_train['date'] = pd.to_datetime(merged_train['date'])"
   ],
   "id": "1bc15676ad870917",
   "outputs": [],
   "execution_count": 6
  },
  {
   "metadata": {
    "ExecuteTime": {
     "end_time": "2024-10-02T19:16:38.478430Z",
     "start_time": "2024-10-02T19:16:35.543644Z"
    }
   },
   "cell_type": "code",
   "source": [
    "#return el dataset con el cleaning a un csv\n",
    "merged_test.to_csv('merged_test_clean.csv', index=False)\n",
    "merged_train.to_csv('merged_train_clean.csv', index=False)\n"
   ],
   "id": "2b76c34ec8f393c3",
   "outputs": [],
   "execution_count": 7
  },
  {
   "metadata": {
    "ExecuteTime": {
     "end_time": "2024-10-02T19:16:38.480628Z",
     "start_time": "2024-10-02T19:16:38.479206Z"
    }
   },
   "cell_type": "code",
   "source": "",
   "id": "236c72d4ee972a79",
   "outputs": [],
   "execution_count": 7
  }
 ],
 "metadata": {
  "kernelspec": {
   "display_name": "Python 3",
   "language": "python",
   "name": "python3"
  },
  "language_info": {
   "codemirror_mode": {
    "name": "ipython",
    "version": 2
   },
   "file_extension": ".py",
   "mimetype": "text/x-python",
   "name": "python",
   "nbconvert_exporter": "python",
   "pygments_lexer": "ipython2",
   "version": "2.7.6"
  }
 },
 "nbformat": 4,
 "nbformat_minor": 5
}
