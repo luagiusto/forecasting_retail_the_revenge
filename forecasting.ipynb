{
 "cells": [
  {
   "cell_type": "code",
   "id": "initial_id",
   "metadata": {
    "collapsed": true,
    "ExecuteTime": {
     "end_time": "2024-10-01T01:21:15.505271Z",
     "start_time": "2024-10-01T01:21:15.467382Z"
    }
   },
   "source": [
    "import pandas as pd\n",
    "import numpy as np\n",
    "import matplotlib.pyplot as plt\n",
    "import seaborn as sns\n",
    "import requests\n",
    "from bs4 import BeautifulSoup\n",
    "\n"
   ],
   "outputs": [],
   "execution_count": 40
  },
  {
   "metadata": {
    "ExecuteTime": {
     "end_time": "2024-10-01T01:21:16.290399Z",
     "start_time": "2024-10-01T01:21:15.508159Z"
    }
   },
   "cell_type": "code",
   "source": [
    "#Cargar los datos\n",
    "dtype_spec = {\n",
    "    train_df.columns[7]: 'str'\n",
    "}\n",
    "\n",
    "train_df = pd.read_csv('train.csv', dtype=dtype_spec)\n",
    "test_df = pd.read_csv('test.csv')\n",
    "store_df = pd.read_csv('store.csv')"
   ],
   "id": "1412f81f831a8e63",
   "outputs": [
    {
     "name": "stderr",
     "output_type": "stream",
     "text": [
      "/var/folders/dk/_8pjx3z94934mw25lyqb9xkw0000gn/T/ipykernel_46292/164231834.py:6: DtypeWarning: Columns (7) have mixed types. Specify dtype option on import or set low_memory=False.\n",
      "  train_df = pd.read_csv('train.csv', dtype=dtype_spec)\n"
     ]
    }
   ],
   "execution_count": 41
  },
  {
   "metadata": {
    "ExecuteTime": {
     "end_time": "2024-10-01T02:16:20.610767Z",
     "start_time": "2024-10-01T02:16:20.197963Z"
    }
   },
   "cell_type": "code",
   "source": "store_df.head()",
   "id": "2b9117a080bb1376",
   "outputs": [
    {
     "data": {
      "text/plain": [
       "   Store StoreType Assortment  CompetitionDistance  CompetitionOpenSinceMonth  \\\n",
       "0      1         c          a               1270.0                        9.0   \n",
       "1      2         a          a                570.0                       11.0   \n",
       "2      3         a          a              14130.0                       12.0   \n",
       "3      4         c          c                620.0                        9.0   \n",
       "4      5         a          a              29910.0                        4.0   \n",
       "\n",
       "   CompetitionOpenSinceYear  Promo2  Promo2SinceWeek  Promo2SinceYear  \\\n",
       "0                    2008.0       0              NaN              NaN   \n",
       "1                    2007.0       1             13.0           2010.0   \n",
       "2                    2006.0       1             14.0           2011.0   \n",
       "3                    2009.0       0              NaN              NaN   \n",
       "4                    2015.0       0              NaN              NaN   \n",
       "\n",
       "     PromoInterval  \n",
       "0              NaN  \n",
       "1  Jan,Apr,Jul,Oct  \n",
       "2  Jan,Apr,Jul,Oct  \n",
       "3              NaN  \n",
       "4              NaN  "
      ],
      "text/html": [
       "<div>\n",
       "<style scoped>\n",
       "    .dataframe tbody tr th:only-of-type {\n",
       "        vertical-align: middle;\n",
       "    }\n",
       "\n",
       "    .dataframe tbody tr th {\n",
       "        vertical-align: top;\n",
       "    }\n",
       "\n",
       "    .dataframe thead th {\n",
       "        text-align: right;\n",
       "    }\n",
       "</style>\n",
       "<table border=\"1\" class=\"dataframe\">\n",
       "  <thead>\n",
       "    <tr style=\"text-align: right;\">\n",
       "      <th></th>\n",
       "      <th>Store</th>\n",
       "      <th>StoreType</th>\n",
       "      <th>Assortment</th>\n",
       "      <th>CompetitionDistance</th>\n",
       "      <th>CompetitionOpenSinceMonth</th>\n",
       "      <th>CompetitionOpenSinceYear</th>\n",
       "      <th>Promo2</th>\n",
       "      <th>Promo2SinceWeek</th>\n",
       "      <th>Promo2SinceYear</th>\n",
       "      <th>PromoInterval</th>\n",
       "    </tr>\n",
       "  </thead>\n",
       "  <tbody>\n",
       "    <tr>\n",
       "      <th>0</th>\n",
       "      <td>1</td>\n",
       "      <td>c</td>\n",
       "      <td>a</td>\n",
       "      <td>1270.0</td>\n",
       "      <td>9.0</td>\n",
       "      <td>2008.0</td>\n",
       "      <td>0</td>\n",
       "      <td>NaN</td>\n",
       "      <td>NaN</td>\n",
       "      <td>NaN</td>\n",
       "    </tr>\n",
       "    <tr>\n",
       "      <th>1</th>\n",
       "      <td>2</td>\n",
       "      <td>a</td>\n",
       "      <td>a</td>\n",
       "      <td>570.0</td>\n",
       "      <td>11.0</td>\n",
       "      <td>2007.0</td>\n",
       "      <td>1</td>\n",
       "      <td>13.0</td>\n",
       "      <td>2010.0</td>\n",
       "      <td>Jan,Apr,Jul,Oct</td>\n",
       "    </tr>\n",
       "    <tr>\n",
       "      <th>2</th>\n",
       "      <td>3</td>\n",
       "      <td>a</td>\n",
       "      <td>a</td>\n",
       "      <td>14130.0</td>\n",
       "      <td>12.0</td>\n",
       "      <td>2006.0</td>\n",
       "      <td>1</td>\n",
       "      <td>14.0</td>\n",
       "      <td>2011.0</td>\n",
       "      <td>Jan,Apr,Jul,Oct</td>\n",
       "    </tr>\n",
       "    <tr>\n",
       "      <th>3</th>\n",
       "      <td>4</td>\n",
       "      <td>c</td>\n",
       "      <td>c</td>\n",
       "      <td>620.0</td>\n",
       "      <td>9.0</td>\n",
       "      <td>2009.0</td>\n",
       "      <td>0</td>\n",
       "      <td>NaN</td>\n",
       "      <td>NaN</td>\n",
       "      <td>NaN</td>\n",
       "    </tr>\n",
       "    <tr>\n",
       "      <th>4</th>\n",
       "      <td>5</td>\n",
       "      <td>a</td>\n",
       "      <td>a</td>\n",
       "      <td>29910.0</td>\n",
       "      <td>4.0</td>\n",
       "      <td>2015.0</td>\n",
       "      <td>0</td>\n",
       "      <td>NaN</td>\n",
       "      <td>NaN</td>\n",
       "      <td>NaN</td>\n",
       "    </tr>\n",
       "  </tbody>\n",
       "</table>\n",
       "</div>"
      ]
     },
     "execution_count": 60,
     "metadata": {},
     "output_type": "execute_result"
    }
   ],
   "execution_count": 60
  },
  {
   "metadata": {
    "ExecuteTime": {
     "end_time": "2024-10-01T01:21:16.302289Z",
     "start_time": "2024-10-01T01:21:16.292264Z"
    }
   },
   "cell_type": "code",
   "source": [
    "# Mostrar las primeras filas de cada DataFrame\n",
    "print(train_df.head())\n"
   ],
   "id": "279f0e4a2f41a77f",
   "outputs": [
    {
     "name": "stdout",
     "output_type": "stream",
     "text": [
      "   Store  DayOfWeek        Date  Sales  Customers  Open  Promo StateHoliday  \\\n",
      "0      1          5  2015-07-31   5263        555     1      1            0   \n",
      "1      2          5  2015-07-31   6064        625     1      1            0   \n",
      "2      3          5  2015-07-31   8314        821     1      1            0   \n",
      "3      4          5  2015-07-31  13995       1498     1      1            0   \n",
      "4      5          5  2015-07-31   4822        559     1      1            0   \n",
      "\n",
      "   SchoolHoliday  \n",
      "0              1  \n",
      "1              1  \n",
      "2              1  \n",
      "3              1  \n",
      "4              1  \n"
     ]
    }
   ],
   "execution_count": 42
  },
  {
   "metadata": {
    "ExecuteTime": {
     "end_time": "2024-10-01T01:21:16.311467Z",
     "start_time": "2024-10-01T01:21:16.304440Z"
    }
   },
   "cell_type": "code",
   "source": "print(test_df.head())",
   "id": "2db6dc6aad7d96d6",
   "outputs": [
    {
     "name": "stdout",
     "output_type": "stream",
     "text": [
      "   Id  Store  DayOfWeek        Date  Open  Promo StateHoliday  SchoolHoliday\n",
      "0   1      1          4  2015-09-17   1.0      1            0              0\n",
      "1   2      3          4  2015-09-17   1.0      1            0              0\n",
      "2   3      7          4  2015-09-17   1.0      1            0              0\n",
      "3   4      8          4  2015-09-17   1.0      1            0              0\n",
      "4   5      9          4  2015-09-17   1.0      1            0              0\n"
     ]
    }
   ],
   "execution_count": 43
  },
  {
   "metadata": {
    "ExecuteTime": {
     "end_time": "2024-10-01T01:21:16.317154Z",
     "start_time": "2024-10-01T01:21:16.312289Z"
    }
   },
   "cell_type": "code",
   "source": "print(store_df.head())",
   "id": "3d4459eb1950b044",
   "outputs": [
    {
     "name": "stdout",
     "output_type": "stream",
     "text": [
      "   Store StoreType Assortment  CompetitionDistance  CompetitionOpenSinceMonth  \\\n",
      "0      1         c          a               1270.0                        9.0   \n",
      "1      2         a          a                570.0                       11.0   \n",
      "2      3         a          a              14130.0                       12.0   \n",
      "3      4         c          c                620.0                        9.0   \n",
      "4      5         a          a              29910.0                        4.0   \n",
      "\n",
      "   CompetitionOpenSinceYear  Promo2  Promo2SinceWeek  Promo2SinceYear  \\\n",
      "0                    2008.0       0              NaN              NaN   \n",
      "1                    2007.0       1             13.0           2010.0   \n",
      "2                    2006.0       1             14.0           2011.0   \n",
      "3                    2009.0       0              NaN              NaN   \n",
      "4                    2015.0       0              NaN              NaN   \n",
      "\n",
      "     PromoInterval  \n",
      "0              NaN  \n",
      "1  Jan,Apr,Jul,Oct  \n",
      "2  Jan,Apr,Jul,Oct  \n",
      "3              NaN  \n",
      "4              NaN  \n"
     ]
    }
   ],
   "execution_count": 44
  },
  {
   "metadata": {
    "ExecuteTime": {
     "end_time": "2024-10-01T01:21:16.506085Z",
     "start_time": "2024-10-01T01:21:16.317980Z"
    }
   },
   "cell_type": "code",
   "source": [
    "# Unir los datos de la tienda con los datos de entrenamiento y prueba\n",
    "train_df = train_df.merge(store_df, on='Store', how='left')\n",
    "test_df = test_df.merge(store_df, on='Store', how='left')\n"
   ],
   "id": "cca4901592b0c4bb",
   "outputs": [],
   "execution_count": 45
  },
  {
   "metadata": {
    "ExecuteTime": {
     "end_time": "2024-10-01T01:21:16.512343Z",
     "start_time": "2024-10-01T01:21:16.506869Z"
    }
   },
   "cell_type": "code",
   "source": [
    "# Mostrar las primeras filas después de la unión\n",
    "print(train_df.head())\n"
   ],
   "id": "d94986d7e3ba8c7e",
   "outputs": [
    {
     "name": "stdout",
     "output_type": "stream",
     "text": [
      "   Store  DayOfWeek        Date  Sales  Customers  Open  Promo StateHoliday  \\\n",
      "0      1          5  2015-07-31   5263        555     1      1            0   \n",
      "1      2          5  2015-07-31   6064        625     1      1            0   \n",
      "2      3          5  2015-07-31   8314        821     1      1            0   \n",
      "3      4          5  2015-07-31  13995       1498     1      1            0   \n",
      "4      5          5  2015-07-31   4822        559     1      1            0   \n",
      "\n",
      "   SchoolHoliday StoreType Assortment  CompetitionDistance  \\\n",
      "0              1         c          a               1270.0   \n",
      "1              1         a          a                570.0   \n",
      "2              1         a          a              14130.0   \n",
      "3              1         c          c                620.0   \n",
      "4              1         a          a              29910.0   \n",
      "\n",
      "   CompetitionOpenSinceMonth  CompetitionOpenSinceYear  Promo2  \\\n",
      "0                        9.0                    2008.0       0   \n",
      "1                       11.0                    2007.0       1   \n",
      "2                       12.0                    2006.0       1   \n",
      "3                        9.0                    2009.0       0   \n",
      "4                        4.0                    2015.0       0   \n",
      "\n",
      "   Promo2SinceWeek  Promo2SinceYear    PromoInterval  \n",
      "0              NaN              NaN              NaN  \n",
      "1             13.0           2010.0  Jan,Apr,Jul,Oct  \n",
      "2             14.0           2011.0  Jan,Apr,Jul,Oct  \n",
      "3              NaN              NaN              NaN  \n",
      "4              NaN              NaN              NaN  \n"
     ]
    }
   ],
   "execution_count": 46
  },
  {
   "metadata": {
    "ExecuteTime": {
     "end_time": "2024-10-01T01:21:16.519140Z",
     "start_time": "2024-10-01T01:21:16.513218Z"
    }
   },
   "cell_type": "code",
   "source": "print(test_df.head())\n",
   "id": "a68fc22b1649bd87",
   "outputs": [
    {
     "name": "stdout",
     "output_type": "stream",
     "text": [
      "   Id  Store  DayOfWeek        Date  Open  Promo StateHoliday  SchoolHoliday  \\\n",
      "0   1      1          4  2015-09-17   1.0      1            0              0   \n",
      "1   2      3          4  2015-09-17   1.0      1            0              0   \n",
      "2   3      7          4  2015-09-17   1.0      1            0              0   \n",
      "3   4      8          4  2015-09-17   1.0      1            0              0   \n",
      "4   5      9          4  2015-09-17   1.0      1            0              0   \n",
      "\n",
      "  StoreType Assortment  CompetitionDistance  CompetitionOpenSinceMonth  \\\n",
      "0         c          a               1270.0                        9.0   \n",
      "1         a          a              14130.0                       12.0   \n",
      "2         a          c              24000.0                        4.0   \n",
      "3         a          a               7520.0                       10.0   \n",
      "4         a          c               2030.0                        8.0   \n",
      "\n",
      "   CompetitionOpenSinceYear  Promo2  Promo2SinceWeek  Promo2SinceYear  \\\n",
      "0                    2008.0       0              NaN              NaN   \n",
      "1                    2006.0       1             14.0           2011.0   \n",
      "2                    2013.0       0              NaN              NaN   \n",
      "3                    2014.0       0              NaN              NaN   \n",
      "4                    2000.0       0              NaN              NaN   \n",
      "\n",
      "     PromoInterval  \n",
      "0              NaN  \n",
      "1  Jan,Apr,Jul,Oct  \n",
      "2              NaN  \n",
      "3              NaN  \n",
      "4              NaN  \n"
     ]
    }
   ],
   "execution_count": 47
  },
  {
   "metadata": {
    "ExecuteTime": {
     "end_time": "2024-10-01T01:21:16.523651Z",
     "start_time": "2024-10-01T01:21:16.520338Z"
    }
   },
   "cell_type": "code",
   "source": [
    "#pasar nombre de columnas a minusculas y reemplazar espacios por guiones bajos\n",
    "train_df.columns = [col.lower().replace(' ', '_') for col in train_df.columns]\n",
    "test_df.columns = [col.lower().replace(' ', '_') for col in test_df.columns]\n"
   ],
   "id": "46130c58f2335da3",
   "outputs": [],
   "execution_count": 48
  },
  {
   "metadata": {
    "ExecuteTime": {
     "end_time": "2024-10-01T01:21:16.666485Z",
     "start_time": "2024-10-01T01:21:16.526555Z"
    }
   },
   "cell_type": "code",
   "source": [
    "#evaluamos la presencia de valores nulos\n",
    "print(train_df.isnull().sum())\n"
   ],
   "id": "53a8b7a27f50880b",
   "outputs": [
    {
     "name": "stdout",
     "output_type": "stream",
     "text": [
      "store                             0\n",
      "dayofweek                         0\n",
      "date                              0\n",
      "sales                             0\n",
      "customers                         0\n",
      "open                              0\n",
      "promo                             0\n",
      "stateholiday                      0\n",
      "schoolholiday                     0\n",
      "storetype                         0\n",
      "assortment                        0\n",
      "competitiondistance            2642\n",
      "competitionopensincemonth    323348\n",
      "competitionopensinceyear     323348\n",
      "promo2                            0\n",
      "promo2sinceweek              508031\n",
      "promo2sinceyear              508031\n",
      "promointerval                508031\n",
      "dtype: int64\n"
     ]
    }
   ],
   "execution_count": 49
  },
  {
   "metadata": {
    "ExecuteTime": {
     "end_time": "2024-10-01T01:21:16.688438Z",
     "start_time": "2024-10-01T01:21:16.670664Z"
    }
   },
   "cell_type": "code",
   "source": [
    "#evaluamos la presencia de valores nulos\n",
    "print(test_df.isnull().sum())"
   ],
   "id": "a10529e4fedbbc0d",
   "outputs": [
    {
     "name": "stdout",
     "output_type": "stream",
     "text": [
      "id                               0\n",
      "store                            0\n",
      "dayofweek                        0\n",
      "date                             0\n",
      "open                            11\n",
      "promo                            0\n",
      "stateholiday                     0\n",
      "schoolholiday                    0\n",
      "storetype                        0\n",
      "assortment                       0\n",
      "competitiondistance             96\n",
      "competitionopensincemonth    15216\n",
      "competitionopensinceyear     15216\n",
      "promo2                           0\n",
      "promo2sinceweek              17232\n",
      "promo2sinceyear              17232\n",
      "promointerval                17232\n",
      "dtype: int64\n"
     ]
    }
   ],
   "execution_count": 50
  },
  {
   "metadata": {
    "ExecuteTime": {
     "end_time": "2024-10-01T01:21:16.765155Z",
     "start_time": "2024-10-01T01:21:16.689543Z"
    }
   },
   "cell_type": "code",
   "source": [
    "# Rellenar valores nulos en columnas de competencia\n",
    "train_df['competitiondistance'].fillna(0, inplace=True)\n",
    "train_df['competitionopensincemonth'].fillna(0, inplace=True)\n",
    "train_df['competitionopensinceyear'].fillna(0, inplace=True)\n",
    "\n",
    "test_df['competitiondistance'].fillna(0, inplace=True)\n",
    "test_df['competitionopensincemonth'].fillna(0, inplace=True)\n",
    "test_df['competitionopensinceyear'].fillna(0, inplace=True)\n",
    "\n",
    "# Rellenar valores nulos en columnas de promoción\n",
    "train_df['promo2sinceweek'].fillna(0, inplace=True)\n",
    "train_df['promo2sinceyear'].fillna(0, inplace=True)\n",
    "train_df['promointerval'].fillna(0, inplace=True)\n",
    "\n",
    "test_df['promo2sinceweek'].fillna(0, inplace=True)\n",
    "test_df['promo2sinceyear'].fillna(0, inplace=True)\n",
    "test_df['promointerval'].fillna(0, inplace=True)"
   ],
   "id": "2059479336c0554f",
   "outputs": [
    {
     "name": "stderr",
     "output_type": "stream",
     "text": [
      "/var/folders/dk/_8pjx3z94934mw25lyqb9xkw0000gn/T/ipykernel_46292/769476135.py:2: FutureWarning: A value is trying to be set on a copy of a DataFrame or Series through chained assignment using an inplace method.\n",
      "The behavior will change in pandas 3.0. This inplace method will never work because the intermediate object on which we are setting values always behaves as a copy.\n",
      "\n",
      "For example, when doing 'df[col].method(value, inplace=True)', try using 'df.method({col: value}, inplace=True)' or df[col] = df[col].method(value) instead, to perform the operation inplace on the original object.\n",
      "\n",
      "\n",
      "  train_df['competitiondistance'].fillna(0, inplace=True)\n",
      "/var/folders/dk/_8pjx3z94934mw25lyqb9xkw0000gn/T/ipykernel_46292/769476135.py:3: FutureWarning: A value is trying to be set on a copy of a DataFrame or Series through chained assignment using an inplace method.\n",
      "The behavior will change in pandas 3.0. This inplace method will never work because the intermediate object on which we are setting values always behaves as a copy.\n",
      "\n",
      "For example, when doing 'df[col].method(value, inplace=True)', try using 'df.method({col: value}, inplace=True)' or df[col] = df[col].method(value) instead, to perform the operation inplace on the original object.\n",
      "\n",
      "\n",
      "  train_df['competitionopensincemonth'].fillna(0, inplace=True)\n",
      "/var/folders/dk/_8pjx3z94934mw25lyqb9xkw0000gn/T/ipykernel_46292/769476135.py:4: FutureWarning: A value is trying to be set on a copy of a DataFrame or Series through chained assignment using an inplace method.\n",
      "The behavior will change in pandas 3.0. This inplace method will never work because the intermediate object on which we are setting values always behaves as a copy.\n",
      "\n",
      "For example, when doing 'df[col].method(value, inplace=True)', try using 'df.method({col: value}, inplace=True)' or df[col] = df[col].method(value) instead, to perform the operation inplace on the original object.\n",
      "\n",
      "\n",
      "  train_df['competitionopensinceyear'].fillna(0, inplace=True)\n",
      "/var/folders/dk/_8pjx3z94934mw25lyqb9xkw0000gn/T/ipykernel_46292/769476135.py:6: FutureWarning: A value is trying to be set on a copy of a DataFrame or Series through chained assignment using an inplace method.\n",
      "The behavior will change in pandas 3.0. This inplace method will never work because the intermediate object on which we are setting values always behaves as a copy.\n",
      "\n",
      "For example, when doing 'df[col].method(value, inplace=True)', try using 'df.method({col: value}, inplace=True)' or df[col] = df[col].method(value) instead, to perform the operation inplace on the original object.\n",
      "\n",
      "\n",
      "  test_df['competitiondistance'].fillna(0, inplace=True)\n",
      "/var/folders/dk/_8pjx3z94934mw25lyqb9xkw0000gn/T/ipykernel_46292/769476135.py:7: FutureWarning: A value is trying to be set on a copy of a DataFrame or Series through chained assignment using an inplace method.\n",
      "The behavior will change in pandas 3.0. This inplace method will never work because the intermediate object on which we are setting values always behaves as a copy.\n",
      "\n",
      "For example, when doing 'df[col].method(value, inplace=True)', try using 'df.method({col: value}, inplace=True)' or df[col] = df[col].method(value) instead, to perform the operation inplace on the original object.\n",
      "\n",
      "\n",
      "  test_df['competitionopensincemonth'].fillna(0, inplace=True)\n",
      "/var/folders/dk/_8pjx3z94934mw25lyqb9xkw0000gn/T/ipykernel_46292/769476135.py:8: FutureWarning: A value is trying to be set on a copy of a DataFrame or Series through chained assignment using an inplace method.\n",
      "The behavior will change in pandas 3.0. This inplace method will never work because the intermediate object on which we are setting values always behaves as a copy.\n",
      "\n",
      "For example, when doing 'df[col].method(value, inplace=True)', try using 'df.method({col: value}, inplace=True)' or df[col] = df[col].method(value) instead, to perform the operation inplace on the original object.\n",
      "\n",
      "\n",
      "  test_df['competitionopensinceyear'].fillna(0, inplace=True)\n",
      "/var/folders/dk/_8pjx3z94934mw25lyqb9xkw0000gn/T/ipykernel_46292/769476135.py:11: FutureWarning: A value is trying to be set on a copy of a DataFrame or Series through chained assignment using an inplace method.\n",
      "The behavior will change in pandas 3.0. This inplace method will never work because the intermediate object on which we are setting values always behaves as a copy.\n",
      "\n",
      "For example, when doing 'df[col].method(value, inplace=True)', try using 'df.method({col: value}, inplace=True)' or df[col] = df[col].method(value) instead, to perform the operation inplace on the original object.\n",
      "\n",
      "\n",
      "  train_df['promo2sinceweek'].fillna(0, inplace=True)\n",
      "/var/folders/dk/_8pjx3z94934mw25lyqb9xkw0000gn/T/ipykernel_46292/769476135.py:12: FutureWarning: A value is trying to be set on a copy of a DataFrame or Series through chained assignment using an inplace method.\n",
      "The behavior will change in pandas 3.0. This inplace method will never work because the intermediate object on which we are setting values always behaves as a copy.\n",
      "\n",
      "For example, when doing 'df[col].method(value, inplace=True)', try using 'df.method({col: value}, inplace=True)' or df[col] = df[col].method(value) instead, to perform the operation inplace on the original object.\n",
      "\n",
      "\n",
      "  train_df['promo2sinceyear'].fillna(0, inplace=True)\n",
      "/var/folders/dk/_8pjx3z94934mw25lyqb9xkw0000gn/T/ipykernel_46292/769476135.py:13: FutureWarning: A value is trying to be set on a copy of a DataFrame or Series through chained assignment using an inplace method.\n",
      "The behavior will change in pandas 3.0. This inplace method will never work because the intermediate object on which we are setting values always behaves as a copy.\n",
      "\n",
      "For example, when doing 'df[col].method(value, inplace=True)', try using 'df.method({col: value}, inplace=True)' or df[col] = df[col].method(value) instead, to perform the operation inplace on the original object.\n",
      "\n",
      "\n",
      "  train_df['promointerval'].fillna(0, inplace=True)\n",
      "/var/folders/dk/_8pjx3z94934mw25lyqb9xkw0000gn/T/ipykernel_46292/769476135.py:15: FutureWarning: A value is trying to be set on a copy of a DataFrame or Series through chained assignment using an inplace method.\n",
      "The behavior will change in pandas 3.0. This inplace method will never work because the intermediate object on which we are setting values always behaves as a copy.\n",
      "\n",
      "For example, when doing 'df[col].method(value, inplace=True)', try using 'df.method({col: value}, inplace=True)' or df[col] = df[col].method(value) instead, to perform the operation inplace on the original object.\n",
      "\n",
      "\n",
      "  test_df['promo2sinceweek'].fillna(0, inplace=True)\n",
      "/var/folders/dk/_8pjx3z94934mw25lyqb9xkw0000gn/T/ipykernel_46292/769476135.py:16: FutureWarning: A value is trying to be set on a copy of a DataFrame or Series through chained assignment using an inplace method.\n",
      "The behavior will change in pandas 3.0. This inplace method will never work because the intermediate object on which we are setting values always behaves as a copy.\n",
      "\n",
      "For example, when doing 'df[col].method(value, inplace=True)', try using 'df.method({col: value}, inplace=True)' or df[col] = df[col].method(value) instead, to perform the operation inplace on the original object.\n",
      "\n",
      "\n",
      "  test_df['promo2sinceyear'].fillna(0, inplace=True)\n",
      "/var/folders/dk/_8pjx3z94934mw25lyqb9xkw0000gn/T/ipykernel_46292/769476135.py:17: FutureWarning: A value is trying to be set on a copy of a DataFrame or Series through chained assignment using an inplace method.\n",
      "The behavior will change in pandas 3.0. This inplace method will never work because the intermediate object on which we are setting values always behaves as a copy.\n",
      "\n",
      "For example, when doing 'df[col].method(value, inplace=True)', try using 'df.method({col: value}, inplace=True)' or df[col] = df[col].method(value) instead, to perform the operation inplace on the original object.\n",
      "\n",
      "\n",
      "  test_df['promointerval'].fillna(0, inplace=True)\n"
     ]
    }
   ],
   "execution_count": 51
  },
  {
   "metadata": {
    "ExecuteTime": {
     "end_time": "2024-10-01T01:21:16.772169Z",
     "start_time": "2024-10-01T01:21:16.766246Z"
    }
   },
   "cell_type": "code",
   "source": [
    "#mostrar los tipos de datos\n",
    "print(train_df.dtypes)"
   ],
   "id": "ceb9f9eb2cb37f04",
   "outputs": [
    {
     "name": "stdout",
     "output_type": "stream",
     "text": [
      "store                          int64\n",
      "dayofweek                      int64\n",
      "date                          object\n",
      "sales                          int64\n",
      "customers                      int64\n",
      "open                           int64\n",
      "promo                          int64\n",
      "stateholiday                  object\n",
      "schoolholiday                  int64\n",
      "storetype                     object\n",
      "assortment                    object\n",
      "competitiondistance          float64\n",
      "competitionopensincemonth    float64\n",
      "competitionopensinceyear     float64\n",
      "promo2                         int64\n",
      "promo2sinceweek              float64\n",
      "promo2sinceyear              float64\n",
      "promointerval                 object\n",
      "dtype: object\n"
     ]
    }
   ],
   "execution_count": 52
  },
  {
   "metadata": {
    "ExecuteTime": {
     "end_time": "2024-10-01T01:21:18.617445Z",
     "start_time": "2024-10-01T01:21:16.773501Z"
    }
   },
   "cell_type": "code",
   "source": [
    "# Crear un boxplot para visualizar los outliers en la columna 'sales'\n",
    "plt.figure(figsize=(12, 6))\n",
    "sns.boxplot(x=train_df['sales'])\n",
    "plt.title('Boxplot de Sales')\n",
    "plt.show()\n",
    "\n",
    "# Crear un boxplot para visualizar los outliers en la columna 'competitiondistance'\n",
    "plt.figure(figsize=(12, 6))\n",
    "sns.boxplot(x=train_df['competitiondistance'])\n",
    "plt.title('Boxplot de Competition Distance')\n",
    "plt.show()"
   ],
   "id": "7696bb062f9d42b9",
   "outputs": [
    {
     "data": {
      "text/plain": [
       "<Figure size 1200x600 with 1 Axes>"
      ],
      "image/png": "[encoded data removed]"
     },
     "metadata": {},
     "output_type": "display_data"
    },
    {
     "data": {
      "text/plain": [
       "<Figure size 1200x600 with 1 Axes>"
      ],
      "image/png": "[encoded data removed]"
     },
     "metadata": {},
     "output_type": "display_data"
    }
   ],
   "execution_count": 53
  },
  {
   "metadata": {
    "ExecuteTime": {
     "end_time": "2024-10-01T01:21:18.647361Z",
     "start_time": "2024-10-01T01:21:18.618692Z"
    }
   },
   "cell_type": "code",
   "source": [
    "# Convertir columnas a booleanos\n",
    "train_df['promo'] = train_df['promo'].astype(bool)\n",
    "train_df['promo2'] = train_df['promo2'].astype(bool)\n",
    "train_df['stateholiday'] = train_df['stateholiday'].astype(bool)\n",
    "train_df['schoolholiday'] = train_df['schoolholiday'].astype(bool)\n",
    "\n",
    "test_df['promo'] = test_df['promo'].astype(bool)\n",
    "test_df['promo2'] = test_df['promo2'].astype(bool)\n",
    "test_df['stateholiday'] = test_df['stateholiday'].astype(bool)\n",
    "test_df['schoolholiday'] = test_df['schoolholiday'].astype(bool)"
   ],
   "id": "25408dc699b3d106",
   "outputs": [],
   "execution_count": 54
  },
  {
   "metadata": {
    "ExecuteTime": {
     "end_time": "2024-10-01T01:21:18.718242Z",
     "start_time": "2024-10-01T01:21:18.648072Z"
    }
   },
   "cell_type": "code",
   "source": [
    "#convertir datetime \n",
    "train_df['date'] = pd.to_datetime(train_df['date'])\n",
    "test_df['date'] = pd.to_datetime(test_df['date'])"
   ],
   "id": "65ac4d0dc862190f",
   "outputs": [],
   "execution_count": 55
  },
  {
   "metadata": {
    "ExecuteTime": {
     "end_time": "2024-10-01T01:21:18.764900Z",
     "start_time": "2024-10-01T01:21:18.720344Z"
    }
   },
   "cell_type": "code",
   "source": [
    "#Crear columnas adicionales para el año, mes y día\n",
    "train_df['year'] = train_df['date'].dt.year\n",
    "train_df['month'] = train_df['date'].dt.month\n",
    "train_df['day'] = train_df['date'].dt.day\n"
   ],
   "id": "4e55b7f3c2f4b888",
   "outputs": [],
   "execution_count": 56
  },
  {
   "metadata": {
    "ExecuteTime": {
     "end_time": "2024-10-01T01:21:18.770929Z",
     "start_time": "2024-10-01T01:21:18.766211Z"
    }
   },
   "cell_type": "code",
   "source": [
    "#Crear columnas adicionales para el año, mes y día\n",
    "test_df['year'] = test_df['date'].dt.year\n",
    "test_df['month'] = test_df['date'].dt.month\n",
    "test_df['day'] = test_df['date'].dt.day\n"
   ],
   "id": "68bf747f24d0d52",
   "outputs": [],
   "execution_count": 57
  },
  {
   "metadata": {
    "ExecuteTime": {
     "end_time": "2024-10-01T01:21:18.775422Z",
     "start_time": "2024-10-01T01:21:18.771898Z"
    }
   },
   "cell_type": "code",
   "source": [
    "# URL of the weather data\n",
    "url_weather = 'http://www.estesparkweather.net/archive_reports.php?date='\n",
    "\n",
    "# Function to scrape weather data for a specific date\n",
    "def scrape_weather_data(date):\n",
    "    response = requests.get(url_weather + date)\n",
    "    soup = BeautifulSoup(response.content, 'html.parser')\n",
    "\n",
    "    # Extract weather data (adjust according to the website's structure)\n",
    "    weather_data = []\n",
    "    for row in soup.find_all('tr'):\n",
    "        columns = row.find_all('td')\n",
    "        if columns:\n",
    "            time = columns[0].text.strip()\n",
    "            temperature = columns[1].text.strip()\n",
    "            humidity = columns[2].text.strip()\n",
    "            weather_data.append({'time': time, 'temperature': temperature, 'humidity': humidity})\n",
    "\n",
    "    return pd.DataFrame(weather_data)\n"
   ],
   "id": "f57c613460f02ca2",
   "outputs": [],
   "execution_count": 58
  },
  {
   "metadata": {
    "ExecuteTime": {
     "end_time": "2024-10-01T01:21:22.956467Z",
     "start_time": "2024-10-01T01:21:18.776469Z"
    }
   },
   "cell_type": "code",
   "source": [
    "#loop each date of the dataset and scrape the data\n",
    "weather_data = []\n",
    "for date in train_df['date'].dt.strftime('%Y%m%d').unique():\n",
    "    weather_data.append(scrape_weather_data(date))\n",
    "    "
   ],
   "id": "4ac6597089166e87",
   "outputs": [
    {
     "ename": "IndexError",
     "evalue": "list index out of range",
     "output_type": "error",
     "traceback": [
      "\u001B[0;31m---------------------------------------------------------------------------\u001B[0m",
      "\u001B[0;31mIndexError\u001B[0m                                Traceback (most recent call last)",
      "Cell \u001B[0;32mIn[59], line 4\u001B[0m\n\u001B[1;32m      2\u001B[0m weather_data \u001B[38;5;241m=\u001B[39m []\n\u001B[1;32m      3\u001B[0m \u001B[38;5;28;01mfor\u001B[39;00m date \u001B[38;5;129;01min\u001B[39;00m train_df[\u001B[38;5;124m'\u001B[39m\u001B[38;5;124mdate\u001B[39m\u001B[38;5;124m'\u001B[39m]\u001B[38;5;241m.\u001B[39mdt\u001B[38;5;241m.\u001B[39mstrftime(\u001B[38;5;124m'\u001B[39m\u001B[38;5;124m%\u001B[39m\u001B[38;5;124mY\u001B[39m\u001B[38;5;124m%\u001B[39m\u001B[38;5;124mm\u001B[39m\u001B[38;5;132;01m%d\u001B[39;00m\u001B[38;5;124m'\u001B[39m)\u001B[38;5;241m.\u001B[39munique():\n\u001B[0;32m----> 4\u001B[0m     weather_data\u001B[38;5;241m.\u001B[39mappend(\u001B[43mscrape_weather_data\u001B[49m\u001B[43m(\u001B[49m\u001B[43mdate\u001B[49m\u001B[43m)\u001B[49m)\n",
      "Cell \u001B[0;32mIn[58], line 15\u001B[0m, in \u001B[0;36mscrape_weather_data\u001B[0;34m(date)\u001B[0m\n\u001B[1;32m     13\u001B[0m \u001B[38;5;28;01mif\u001B[39;00m columns:\n\u001B[1;32m     14\u001B[0m     time \u001B[38;5;241m=\u001B[39m columns[\u001B[38;5;241m0\u001B[39m]\u001B[38;5;241m.\u001B[39mtext\u001B[38;5;241m.\u001B[39mstrip()\n\u001B[0;32m---> 15\u001B[0m     temperature \u001B[38;5;241m=\u001B[39m \u001B[43mcolumns\u001B[49m\u001B[43m[\u001B[49m\u001B[38;5;241;43m1\u001B[39;49m\u001B[43m]\u001B[49m\u001B[38;5;241m.\u001B[39mtext\u001B[38;5;241m.\u001B[39mstrip()\n\u001B[1;32m     16\u001B[0m     humidity \u001B[38;5;241m=\u001B[39m columns[\u001B[38;5;241m2\u001B[39m]\u001B[38;5;241m.\u001B[39mtext\u001B[38;5;241m.\u001B[39mstrip()\n\u001B[1;32m     17\u001B[0m     weather_data\u001B[38;5;241m.\u001B[39mappend({\u001B[38;5;124m'\u001B[39m\u001B[38;5;124mtime\u001B[39m\u001B[38;5;124m'\u001B[39m: time, \u001B[38;5;124m'\u001B[39m\u001B[38;5;124mtemperature\u001B[39m\u001B[38;5;124m'\u001B[39m: temperature, \u001B[38;5;124m'\u001B[39m\u001B[38;5;124mhumidity\u001B[39m\u001B[38;5;124m'\u001B[39m: humidity})\n",
      "\u001B[0;31mIndexError\u001B[0m: list index out of range"
     ]
    }
   ],
   "execution_count": 59
  },
  {
   "metadata": {
    "ExecuteTime": {
     "end_time": "2024-10-01T01:21:22.957389Z",
     "start_time": "2024-10-01T01:21:22.957334Z"
    }
   },
   "cell_type": "code",
   "source": "",
   "id": "749c4a372ad0ac22",
   "outputs": [],
   "execution_count": null
  }
 ],
 "metadata": {
  "kernelspec": {
   "display_name": "Python 3",
   "language": "python",
   "name": "python3"
  },
  "language_info": {
   "codemirror_mode": {
    "name": "ipython",
    "version": 2
   },
   "file_extension": ".py",
   "mimetype": "text/x-python",
   "name": "python",
   "nbconvert_exporter": "python",
   "pygments_lexer": "ipython2",
   "version": "2.7.6"
  }
 },
 "nbformat": 4,
 "nbformat_minor": 5
}
